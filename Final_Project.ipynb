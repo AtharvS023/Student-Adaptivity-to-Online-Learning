{
  "nbformat": 4,
  "nbformat_minor": 0,
  "metadata": {
    "colab": {
      "name": "Final Project",
      "provenance": [],
      "collapsed_sections": []
    },
    "kernelspec": {
      "name": "python3",
      "display_name": "Python 3"
    },
    "language_info": {
      "name": "python"
    }
  },
  "cells": [
    {
      "cell_type": "markdown",
      "source": [
        "##Preliminary Steps"
      ],
      "metadata": {
        "id": "NPs_11t-GbDc"
      }
    },
    {
      "cell_type": "code",
      "execution_count": null,
      "metadata": {
        "id": "VUFJ7uM75PHQ"
      },
      "outputs": [],
      "source": [
        "#Import necessary libraries\n",
        "import pandas as pd\n",
        "import seaborn as sns\n",
        "import numpy as np\n",
        "import matplotlib.pyplot as plt\n",
        "\n",
        "from sklearn.utils import resample\n",
        "from sklearn.model_selection import train_test_split\n",
        "from sklearn.metrics import confusion_matrix, accuracy_score, classification_report"
      ]
    },
    {
      "cell_type": "code",
      "source": [
        "#Read dataset\n",
        "df = pd.read_csv(\"/content/drive/MyDrive/students_adaptability_level_online_education.csv\")"
      ],
      "metadata": {
        "id": "mt5sQOh77QgP"
      },
      "execution_count": null,
      "outputs": []
    },
    {
      "cell_type": "markdown",
      "source": [
        "##Exploratory Data Analysis, Data Visualization, and Data Preprocessing\n"
      ],
      "metadata": {
        "id": "Vow4TO4V_QMZ"
      }
    },
    {
      "cell_type": "code",
      "source": [
        "#Setup of the data\n",
        "df.head()"
      ],
      "metadata": {
        "colab": {
          "base_uri": "https://localhost:8080/",
          "height": 374
        },
        "id": "HJSULLXi_LNj",
        "outputId": "9b21083f-d977-45e4-96ae-52857b845341"
      },
      "execution_count": null,
      "outputs": [
        {
          "output_type": "execute_result",
          "data": {
            "text/plain": [
              "  Gender    Age Education Level Institution Type IT Student Location  \\\n",
              "0    Boy  21-25      University   Non Government         No      Yes   \n",
              "1   Girl  21-25      University   Non Government         No      Yes   \n",
              "2   Girl  16-20         College       Government         No      Yes   \n",
              "3   Girl  11-15          School   Non Government         No      Yes   \n",
              "4   Girl  16-20          School   Non Government         No      Yes   \n",
              "\n",
              "  Load-shedding Financial Condition Internet Type Network Type Class Duration  \\\n",
              "0           Low                 Mid          Wifi           4G            3-6   \n",
              "1          High                 Mid   Mobile Data           4G            1-3   \n",
              "2           Low                 Mid          Wifi           4G            1-3   \n",
              "3           Low                 Mid   Mobile Data           4G            1-3   \n",
              "4           Low                Poor   Mobile Data           3G              0   \n",
              "\n",
              "  Self Lms  Device Adaptivity Level  \n",
              "0       No     Tab         Moderate  \n",
              "1      Yes  Mobile         Moderate  \n",
              "2       No  Mobile         Moderate  \n",
              "3       No  Mobile         Moderate  \n",
              "4       No  Mobile              Low  "
            ],
            "text/html": [
              "\n",
              "  <div id=\"df-b8ec94a0-622a-4412-af68-39ba0d679961\">\n",
              "    <div class=\"colab-df-container\">\n",
              "      <div>\n",
              "<style scoped>\n",
              "    .dataframe tbody tr th:only-of-type {\n",
              "        vertical-align: middle;\n",
              "    }\n",
              "\n",
              "    .dataframe tbody tr th {\n",
              "        vertical-align: top;\n",
              "    }\n",
              "\n",
              "    .dataframe thead th {\n",
              "        text-align: right;\n",
              "    }\n",
              "</style>\n",
              "<table border=\"1\" class=\"dataframe\">\n",
              "  <thead>\n",
              "    <tr style=\"text-align: right;\">\n",
              "      <th></th>\n",
              "      <th>Gender</th>\n",
              "      <th>Age</th>\n",
              "      <th>Education Level</th>\n",
              "      <th>Institution Type</th>\n",
              "      <th>IT Student</th>\n",
              "      <th>Location</th>\n",
              "      <th>Load-shedding</th>\n",
              "      <th>Financial Condition</th>\n",
              "      <th>Internet Type</th>\n",
              "      <th>Network Type</th>\n",
              "      <th>Class Duration</th>\n",
              "      <th>Self Lms</th>\n",
              "      <th>Device</th>\n",
              "      <th>Adaptivity Level</th>\n",
              "    </tr>\n",
              "  </thead>\n",
              "  <tbody>\n",
              "    <tr>\n",
              "      <th>0</th>\n",
              "      <td>Boy</td>\n",
              "      <td>21-25</td>\n",
              "      <td>University</td>\n",
              "      <td>Non Government</td>\n",
              "      <td>No</td>\n",
              "      <td>Yes</td>\n",
              "      <td>Low</td>\n",
              "      <td>Mid</td>\n",
              "      <td>Wifi</td>\n",
              "      <td>4G</td>\n",
              "      <td>3-6</td>\n",
              "      <td>No</td>\n",
              "      <td>Tab</td>\n",
              "      <td>Moderate</td>\n",
              "    </tr>\n",
              "    <tr>\n",
              "      <th>1</th>\n",
              "      <td>Girl</td>\n",
              "      <td>21-25</td>\n",
              "      <td>University</td>\n",
              "      <td>Non Government</td>\n",
              "      <td>No</td>\n",
              "      <td>Yes</td>\n",
              "      <td>High</td>\n",
              "      <td>Mid</td>\n",
              "      <td>Mobile Data</td>\n",
              "      <td>4G</td>\n",
              "      <td>1-3</td>\n",
              "      <td>Yes</td>\n",
              "      <td>Mobile</td>\n",
              "      <td>Moderate</td>\n",
              "    </tr>\n",
              "    <tr>\n",
              "      <th>2</th>\n",
              "      <td>Girl</td>\n",
              "      <td>16-20</td>\n",
              "      <td>College</td>\n",
              "      <td>Government</td>\n",
              "      <td>No</td>\n",
              "      <td>Yes</td>\n",
              "      <td>Low</td>\n",
              "      <td>Mid</td>\n",
              "      <td>Wifi</td>\n",
              "      <td>4G</td>\n",
              "      <td>1-3</td>\n",
              "      <td>No</td>\n",
              "      <td>Mobile</td>\n",
              "      <td>Moderate</td>\n",
              "    </tr>\n",
              "    <tr>\n",
              "      <th>3</th>\n",
              "      <td>Girl</td>\n",
              "      <td>11-15</td>\n",
              "      <td>School</td>\n",
              "      <td>Non Government</td>\n",
              "      <td>No</td>\n",
              "      <td>Yes</td>\n",
              "      <td>Low</td>\n",
              "      <td>Mid</td>\n",
              "      <td>Mobile Data</td>\n",
              "      <td>4G</td>\n",
              "      <td>1-3</td>\n",
              "      <td>No</td>\n",
              "      <td>Mobile</td>\n",
              "      <td>Moderate</td>\n",
              "    </tr>\n",
              "    <tr>\n",
              "      <th>4</th>\n",
              "      <td>Girl</td>\n",
              "      <td>16-20</td>\n",
              "      <td>School</td>\n",
              "      <td>Non Government</td>\n",
              "      <td>No</td>\n",
              "      <td>Yes</td>\n",
              "      <td>Low</td>\n",
              "      <td>Poor</td>\n",
              "      <td>Mobile Data</td>\n",
              "      <td>3G</td>\n",
              "      <td>0</td>\n",
              "      <td>No</td>\n",
              "      <td>Mobile</td>\n",
              "      <td>Low</td>\n",
              "    </tr>\n",
              "  </tbody>\n",
              "</table>\n",
              "</div>\n",
              "      <button class=\"colab-df-convert\" onclick=\"convertToInteractive('df-b8ec94a0-622a-4412-af68-39ba0d679961')\"\n",
              "              title=\"Convert this dataframe to an interactive table.\"\n",
              "              style=\"display:none;\">\n",
              "        \n",
              "  <svg xmlns=\"http://www.w3.org/2000/svg\" height=\"24px\"viewBox=\"0 0 24 24\"\n",
              "       width=\"24px\">\n",
              "    <path d=\"M0 0h24v24H0V0z\" fill=\"none\"/>\n",
              "    <path d=\"M18.56 5.44l.94 2.06.94-2.06 2.06-.94-2.06-.94-.94-2.06-.94 2.06-2.06.94zm-11 1L8.5 8.5l.94-2.06 2.06-.94-2.06-.94L8.5 2.5l-.94 2.06-2.06.94zm10 10l.94 2.06.94-2.06 2.06-.94-2.06-.94-.94-2.06-.94 2.06-2.06.94z\"/><path d=\"M17.41 7.96l-1.37-1.37c-.4-.4-.92-.59-1.43-.59-.52 0-1.04.2-1.43.59L10.3 9.45l-7.72 7.72c-.78.78-.78 2.05 0 2.83L4 21.41c.39.39.9.59 1.41.59.51 0 1.02-.2 1.41-.59l7.78-7.78 2.81-2.81c.8-.78.8-2.07 0-2.86zM5.41 20L4 18.59l7.72-7.72 1.47 1.35L5.41 20z\"/>\n",
              "  </svg>\n",
              "      </button>\n",
              "      \n",
              "  <style>\n",
              "    .colab-df-container {\n",
              "      display:flex;\n",
              "      flex-wrap:wrap;\n",
              "      gap: 12px;\n",
              "    }\n",
              "\n",
              "    .colab-df-convert {\n",
              "      background-color: #E8F0FE;\n",
              "      border: none;\n",
              "      border-radius: 50%;\n",
              "      cursor: pointer;\n",
              "      display: none;\n",
              "      fill: #1967D2;\n",
              "      height: 32px;\n",
              "      padding: 0 0 0 0;\n",
              "      width: 32px;\n",
              "    }\n",
              "\n",
              "    .colab-df-convert:hover {\n",
              "      background-color: #E2EBFA;\n",
              "      box-shadow: 0px 1px 2px rgba(60, 64, 67, 0.3), 0px 1px 3px 1px rgba(60, 64, 67, 0.15);\n",
              "      fill: #174EA6;\n",
              "    }\n",
              "\n",
              "    [theme=dark] .colab-df-convert {\n",
              "      background-color: #3B4455;\n",
              "      fill: #D2E3FC;\n",
              "    }\n",
              "\n",
              "    [theme=dark] .colab-df-convert:hover {\n",
              "      background-color: #434B5C;\n",
              "      box-shadow: 0px 1px 3px 1px rgba(0, 0, 0, 0.15);\n",
              "      filter: drop-shadow(0px 1px 2px rgba(0, 0, 0, 0.3));\n",
              "      fill: #FFFFFF;\n",
              "    }\n",
              "  </style>\n",
              "\n",
              "      <script>\n",
              "        const buttonEl =\n",
              "          document.querySelector('#df-b8ec94a0-622a-4412-af68-39ba0d679961 button.colab-df-convert');\n",
              "        buttonEl.style.display =\n",
              "          google.colab.kernel.accessAllowed ? 'block' : 'none';\n",
              "\n",
              "        async function convertToInteractive(key) {\n",
              "          const element = document.querySelector('#df-b8ec94a0-622a-4412-af68-39ba0d679961');\n",
              "          const dataTable =\n",
              "            await google.colab.kernel.invokeFunction('convertToInteractive',\n",
              "                                                     [key], {});\n",
              "          if (!dataTable) return;\n",
              "\n",
              "          const docLinkHtml = 'Like what you see? Visit the ' +\n",
              "            '<a target=\"_blank\" href=https://colab.research.google.com/notebooks/data_table.ipynb>data table notebook</a>'\n",
              "            + ' to learn more about interactive tables.';\n",
              "          element.innerHTML = '';\n",
              "          dataTable['output_type'] = 'display_data';\n",
              "          await google.colab.output.renderOutput(dataTable, element);\n",
              "          const docLink = document.createElement('div');\n",
              "          docLink.innerHTML = docLinkHtml;\n",
              "          element.appendChild(docLink);\n",
              "        }\n",
              "      </script>\n",
              "    </div>\n",
              "  </div>\n",
              "  "
            ]
          },
          "metadata": {},
          "execution_count": 4
        }
      ]
    },
    {
      "cell_type": "code",
      "source": [
        "#Columns\n",
        "df.info()"
      ],
      "metadata": {
        "colab": {
          "base_uri": "https://localhost:8080/"
        },
        "id": "MYoSbew48PRx",
        "outputId": "d18f8e52-5f9b-4fc0-8bdd-64eb75c1a60a"
      },
      "execution_count": null,
      "outputs": [
        {
          "output_type": "stream",
          "name": "stdout",
          "text": [
            "<class 'pandas.core.frame.DataFrame'>\n",
            "RangeIndex: 1205 entries, 0 to 1204\n",
            "Data columns (total 14 columns):\n",
            " #   Column               Non-Null Count  Dtype \n",
            "---  ------               --------------  ----- \n",
            " 0   Gender               1205 non-null   object\n",
            " 1   Age                  1205 non-null   object\n",
            " 2   Education Level      1205 non-null   object\n",
            " 3   Institution Type     1205 non-null   object\n",
            " 4   IT Student           1205 non-null   object\n",
            " 5   Location             1205 non-null   object\n",
            " 6   Load-shedding        1205 non-null   object\n",
            " 7   Financial Condition  1205 non-null   object\n",
            " 8   Internet Type        1205 non-null   object\n",
            " 9   Network Type         1205 non-null   object\n",
            " 10  Class Duration       1205 non-null   object\n",
            " 11  Self Lms             1205 non-null   object\n",
            " 12  Device               1205 non-null   object\n",
            " 13  Adaptivity Level     1205 non-null   object\n",
            "dtypes: object(14)\n",
            "memory usage: 131.9+ KB\n"
          ]
        }
      ]
    },
    {
      "cell_type": "code",
      "source": [
        "#Check for null values\n",
        "df.isnull().sum()"
      ],
      "metadata": {
        "colab": {
          "base_uri": "https://localhost:8080/"
        },
        "id": "n05hV8Az7Vvv",
        "outputId": "11512ce9-d9fc-498e-81ea-2d7cb2f48ecc"
      },
      "execution_count": null,
      "outputs": [
        {
          "output_type": "execute_result",
          "data": {
            "text/plain": [
              "Gender                 0\n",
              "Age                    0\n",
              "Education Level        0\n",
              "Institution Type       0\n",
              "IT Student             0\n",
              "Location               0\n",
              "Load-shedding          0\n",
              "Financial Condition    0\n",
              "Internet Type          0\n",
              "Network Type           0\n",
              "Class Duration         0\n",
              "Self Lms               0\n",
              "Device                 0\n",
              "Adaptivity Level       0\n",
              "dtype: int64"
            ]
          },
          "metadata": {},
          "execution_count": 6
        }
      ]
    },
    {
      "cell_type": "code",
      "source": [
        "#Original shape of the data\n",
        "df.shape"
      ],
      "metadata": {
        "colab": {
          "base_uri": "https://localhost:8080/"
        },
        "id": "-gXxDErCClsK",
        "outputId": "d8a081ce-b983-473a-9d4f-51bcd8e19e49"
      },
      "execution_count": null,
      "outputs": [
        {
          "output_type": "execute_result",
          "data": {
            "text/plain": [
              "(1205, 14)"
            ]
          },
          "metadata": {},
          "execution_count": 7
        }
      ]
    },
    {
      "cell_type": "code",
      "source": [
        "#Display all categorical values for each feature\n",
        "for columns in df:\n",
        "  print(df[columns].value_counts())"
      ],
      "metadata": {
        "colab": {
          "base_uri": "https://localhost:8080/"
        },
        "id": "OHw_OozD8xQz",
        "outputId": "4e4e7feb-85c4-4393-ac3c-dbb6fd95e845"
      },
      "execution_count": null,
      "outputs": [
        {
          "output_type": "stream",
          "name": "stdout",
          "text": [
            "Boy     663\n",
            "Girl    542\n",
            "Name: Gender, dtype: int64\n",
            "21-25    374\n",
            "11-15    353\n",
            "16-20    278\n",
            "1-5       81\n",
            "26-30     68\n",
            "6-10      51\n",
            "Name: Age, dtype: int64\n",
            "School        530\n",
            "University    456\n",
            "College       219\n",
            "Name: Education Level, dtype: int64\n",
            "Non Government    823\n",
            "Government        382\n",
            "Name: Institution Type, dtype: int64\n",
            "No     901\n",
            "Yes    304\n",
            "Name: IT Student, dtype: int64\n",
            "Yes    935\n",
            "No     270\n",
            "Name: Location, dtype: int64\n",
            "Low     1004\n",
            "High     201\n",
            "Name: Load-shedding, dtype: int64\n",
            "Mid     878\n",
            "Poor    242\n",
            "Rich     85\n",
            "Name: Financial Condition, dtype: int64\n",
            "Mobile Data    695\n",
            "Wifi           510\n",
            "Name: Internet Type, dtype: int64\n",
            "4G    775\n",
            "3G    411\n",
            "2G     19\n",
            "Name: Network Type, dtype: int64\n",
            "1-3    840\n",
            "3-6    211\n",
            "0      154\n",
            "Name: Class Duration, dtype: int64\n",
            "No     995\n",
            "Yes    210\n",
            "Name: Self Lms, dtype: int64\n",
            "Mobile      1013\n",
            "Computer     162\n",
            "Tab           30\n",
            "Name: Device, dtype: int64\n",
            "Moderate    625\n",
            "Low         480\n",
            "High        100\n",
            "Name: Adaptivity Level, dtype: int64\n"
          ]
        }
      ]
    },
    {
      "cell_type": "code",
      "source": [
        "#Distribution of the dependent variable\n",
        "sns.countplot(data = df, x = \"Adaptivity Level\", order = [\"Low\", \"Moderate\", \"High\"])"
      ],
      "metadata": {
        "colab": {
          "base_uri": "https://localhost:8080/",
          "height": 297
        },
        "id": "5AkgLuBx9-JM",
        "outputId": "e2a9199e-abc2-4dc8-cd5d-b29a2417453f"
      },
      "execution_count": null,
      "outputs": [
        {
          "output_type": "execute_result",
          "data": {
            "text/plain": [
              "<matplotlib.axes._subplots.AxesSubplot at 0x7f985fc75410>"
            ]
          },
          "metadata": {},
          "execution_count": 9
        },
        {
          "output_type": "display_data",
          "data": {
            "text/plain": [
              "<Figure size 432x288 with 1 Axes>"
            ],
            "image/png": "[encoded data removed]"
          },
          "metadata": {
            "needs_background": "light"
          }
        }
      ]
    },
    {
      "cell_type": "code",
      "source": [
        "#Rename features for interpretability\n",
        "df = df.rename(columns = {\"Adaptivity Level\": \"Label\", \"Location\": \"In Town\", \"Load-shedding\": \"Electricity Load-shedding\", \"Self Lms\": \"Learning Management System\"})"
      ],
      "metadata": {
        "id": "-4_3WGCQo6DA"
      },
      "execution_count": null,
      "outputs": []
    },
    {
      "cell_type": "code",
      "source": [
        "#Variable conversion: Replace categorical values with numeric values for dependent feature\n",
        "df[\"Label\"] = df[\"Label\"].replace(to_replace = [\"Low\", \"Moderate\", \"High\"], value = [0, 1, 2])"
      ],
      "metadata": {
        "id": "CLNsB_ZxkS1u"
      },
      "execution_count": null,
      "outputs": []
    },
    {
      "cell_type": "code",
      "source": [
        "#Barplot comparing all independent features to the dependent label\n",
        "for columns in df:\n",
        "  if columns != \"Label\":\n",
        "    plt.figure(figsize = (7,7))\n",
        "    sns.barplot(x = columns, y = df[\"Label\"], data = df)\n",
        "\n",
        "#Some surprising results (everything else seemed normal):\n",
        "\n",
        "#Young kids are actually quite adaptive, while teens aren't very\n",
        "#College students aren't as adaptive, while university students are\n",
        "#Electricity-conditions didn't have as much of an effect as I thought"
      ],
      "metadata": {
        "colab": {
          "base_uri": "https://localhost:8080/",
          "height": 1000
        },
        "id": "Vpgt-e4ljQeY",
        "outputId": "dda3400b-1bc0-401b-8f77-b9909d175071"
      },
      "execution_count": null,
      "outputs": [
        {
          "output_type": "display_data",
          "data": {
            "text/plain": [
              "<Figure size 504x504 with 1 Axes>"
            ],
            "image/png": "[encoded data removed]"
          },
          "metadata": {
            "needs_background": "light"
          }
        },
        {
          "output_type": "display_data",
          "data": {
            "text/plain": [
              "<Figure size 504x504 with 1 Axes>"
            ],
            "image/png": "[encoded data removed]"
          },
          "metadata": {
            "needs_background": "light"
          }
        },
        {
          "output_type": "display_data",
          "data": {
            "text/plain": [
              "<Figure size 504x504 with 1 Axes>"
            ],
            "image/png": "[encoded data removed]"
          },
          "metadata": {
            "needs_background": "light"
          }
        },
        {
          "output_type": "display_data",
          "data": {
            "text/plain": [
              "<Figure size 504x504 with 1 Axes>"
            ],
            "image/png": "[encoded data removed]"
          },
          "metadata": {
            "needs_background": "light"
          }
        },
        {
          "output_type": "display_data",
          "data": {
            "text/plain": [
              "<Figure size 504x504 with 1 Axes>"
            ],
            "image/png": "[encoded data removed]"
          },
          "metadata": {
            "needs_background": "light"
          }
        },
        {
          "output_type": "display_data",
          "data": {
            "text/plain": [
              "<Figure size 504x504 with 1 Axes>"
            ],
            "image/png": "[encoded data removed]"
          },
          "metadata": {
            "needs_background": "light"
          }
        },
        {
          "output_type": "display_data",
          "data": {
            "text/plain": [
              "<Figure size 504x504 with 1 Axes>"
            ],
            "image/png": "[encoded data removed]"
          },
          "metadata": {
            "needs_background": "light"
          }
        },
        {
          "output_type": "display_data",
          "data": {
            "text/plain": [
              "<Figure size 504x504 with 1 Axes>"
            ],
            "image/png": "[encoded data removed]"
          },
          "metadata": {
            "needs_background": "light"
          }
        },
        {
          "output_type": "display_data",
          "data": {
            "text/plain": [
              "<Figure size 504x504 with 1 Axes>"
            ],
            "image/png": "[encoded data removed]"
          },
          "metadata": {
            "needs_background": "light"
          }
        },
        {
          "output_type": "display_data",
          "data": {
            "text/plain": [
              "<Figure size 504x504 with 1 Axes>"
            ],
            "image/png": "[encoded data removed]"
          },
          "metadata": {
            "needs_background": "light"
          }
        },
        {
          "output_type": "display_data",
          "data": {
            "text/plain": [
              "<Figure size 504x504 with 1 Axes>"
            ],
            "image/png": "[encoded data removed]"
          },
          "metadata": {
            "needs_background": "light"
          }
        },
        {
          "output_type": "display_data",
          "data": {
            "text/plain": [
              "<Figure size 504x504 with 1 Axes>"
            ],
            "image/png": "[encoded data removed]"
          },
          "metadata": {
            "needs_background": "light"
          }
        },
        {
          "output_type": "display_data",
          "data": {
            "text/plain": [
              "<Figure size 504x504 with 1 Axes>"
            ],
            "image/png": "[encoded data removed]"
          },
          "metadata": {
            "needs_background": "light"
          }
        }
      ]
    },
    {
      "cell_type": "code",
      "source": [
        "#One-hot encoding for all independent features\n",
        "one_hot_df = pd.get_dummies(df.iloc[:, :-1])\n",
        "one_hot_df.info()"
      ],
      "metadata": {
        "colab": {
          "base_uri": "https://localhost:8080/"
        },
        "id": "WESCcZyZ_h7B",
        "outputId": "a3e7ef63-3ab8-41ae-ec8a-fe099ce0760e"
      },
      "execution_count": null,
      "outputs": [
        {
          "output_type": "stream",
          "name": "stdout",
          "text": [
            "<class 'pandas.core.frame.DataFrame'>\n",
            "RangeIndex: 1205 entries, 0 to 1204\n",
            "Data columns (total 35 columns):\n",
            " #   Column                           Non-Null Count  Dtype\n",
            "---  ------                           --------------  -----\n",
            " 0   Gender_Boy                       1205 non-null   uint8\n",
            " 1   Gender_Girl                      1205 non-null   uint8\n",
            " 2   Age_1-5                          1205 non-null   uint8\n",
            " 3   Age_11-15                        1205 non-null   uint8\n",
            " 4   Age_16-20                        1205 non-null   uint8\n",
            " 5   Age_21-25                        1205 non-null   uint8\n",
            " 6   Age_26-30                        1205 non-null   uint8\n",
            " 7   Age_6-10                         1205 non-null   uint8\n",
            " 8   Education Level_College          1205 non-null   uint8\n",
            " 9   Education Level_School           1205 non-null   uint8\n",
            " 10  Education Level_University       1205 non-null   uint8\n",
            " 11  Institution Type_Government      1205 non-null   uint8\n",
            " 12  Institution Type_Non Government  1205 non-null   uint8\n",
            " 13  IT Student_No                    1205 non-null   uint8\n",
            " 14  IT Student_Yes                   1205 non-null   uint8\n",
            " 15  In Town_No                       1205 non-null   uint8\n",
            " 16  In Town_Yes                      1205 non-null   uint8\n",
            " 17  Electricity Load-shedding_High   1205 non-null   uint8\n",
            " 18  Electricity Load-shedding_Low    1205 non-null   uint8\n",
            " 19  Financial Condition_Mid          1205 non-null   uint8\n",
            " 20  Financial Condition_Poor         1205 non-null   uint8\n",
            " 21  Financial Condition_Rich         1205 non-null   uint8\n",
            " 22  Internet Type_Mobile Data        1205 non-null   uint8\n",
            " 23  Internet Type_Wifi               1205 non-null   uint8\n",
            " 24  Network Type_2G                  1205 non-null   uint8\n",
            " 25  Network Type_3G                  1205 non-null   uint8\n",
            " 26  Network Type_4G                  1205 non-null   uint8\n",
            " 27  Class Duration_0                 1205 non-null   uint8\n",
            " 28  Class Duration_1-3               1205 non-null   uint8\n",
            " 29  Class Duration_3-6               1205 non-null   uint8\n",
            " 30  Learning Management System_No    1205 non-null   uint8\n",
            " 31  Learning Management System_Yes   1205 non-null   uint8\n",
            " 32  Device_Computer                  1205 non-null   uint8\n",
            " 33  Device_Mobile                    1205 non-null   uint8\n",
            " 34  Device_Tab                       1205 non-null   uint8\n",
            "dtypes: uint8(35)\n",
            "memory usage: 41.3 KB\n"
          ]
        }
      ]
    },
    {
      "cell_type": "code",
      "source": [
        "df[\"Label\"].value_counts()"
      ],
      "metadata": {
        "colab": {
          "base_uri": "https://localhost:8080/"
        },
        "id": "WDX3ZvWUGpTm",
        "outputId": "dc24c93c-0a2c-4190-bccd-77bd5ec4566c"
      },
      "execution_count": null,
      "outputs": [
        {
          "output_type": "execute_result",
          "data": {
            "text/plain": [
              "1    625\n",
              "0    480\n",
              "2    100\n",
              "Name: Label, dtype: int64"
            ]
          },
          "metadata": {},
          "execution_count": 14
        }
      ]
    },
    {
      "cell_type": "code",
      "source": [
        "#New DataFrame with all numeric data\n",
        "new_df = pd.concat([one_hot_df, df[\"Label\"]], axis = 1)\n",
        "new_df.head()"
      ],
      "metadata": {
        "colab": {
          "base_uri": "https://localhost:8080/",
          "height": 334
        },
        "id": "GvS9f8K_Bi6a",
        "outputId": "be5a7e33-8bfc-4ad3-fe1a-81d4dcf79a8f"
      },
      "execution_count": null,
      "outputs": [
        {
          "output_type": "execute_result",
          "data": {
            "text/plain": [
              "   Gender_Boy  Gender_Girl  Age_1-5  Age_11-15  Age_16-20  Age_21-25  \\\n",
              "0           1            0        0          0          0          1   \n",
              "1           0            1        0          0          0          1   \n",
              "2           0            1        0          0          1          0   \n",
              "3           0            1        0          1          0          0   \n",
              "4           0            1        0          0          1          0   \n",
              "\n",
              "   Age_26-30  Age_6-10  Education Level_College  Education Level_School  ...  \\\n",
              "0          0         0                        0                       0  ...   \n",
              "1          0         0                        0                       0  ...   \n",
              "2          0         0                        1                       0  ...   \n",
              "3          0         0                        0                       1  ...   \n",
              "4          0         0                        0                       1  ...   \n",
              "\n",
              "   Network Type_4G  Class Duration_0  Class Duration_1-3  Class Duration_3-6  \\\n",
              "0                1                 0                   0                   1   \n",
              "1                1                 0                   1                   0   \n",
              "2                1                 0                   1                   0   \n",
              "3                1                 0                   1                   0   \n",
              "4                0                 1                   0                   0   \n",
              "\n",
              "   Learning Management System_No  Learning Management System_Yes  \\\n",
              "0                              1                               0   \n",
              "1                              0                               1   \n",
              "2                              1                               0   \n",
              "3                              1                               0   \n",
              "4                              1                               0   \n",
              "\n",
              "   Device_Computer  Device_Mobile  Device_Tab  Label  \n",
              "0                0              0           1      1  \n",
              "1                0              1           0      1  \n",
              "2                0              1           0      1  \n",
              "3                0              1           0      1  \n",
              "4                0              1           0      0  \n",
              "\n",
              "[5 rows x 36 columns]"
            ],
            "text/html": [
              "\n",
              "  <div id=\"df-66114fad-9751-4820-9fe8-7c3a923b9831\">\n",
              "    <div class=\"colab-df-container\">\n",
              "      <div>\n",
              "<style scoped>\n",
              "    .dataframe tbody tr th:only-of-type {\n",
              "        vertical-align: middle;\n",
              "    }\n",
              "\n",
              "    .dataframe tbody tr th {\n",
              "        vertical-align: top;\n",
              "    }\n",
              "\n",
              "    .dataframe thead th {\n",
              "        text-align: right;\n",
              "    }\n",
              "</style>\n",
              "<table border=\"1\" class=\"dataframe\">\n",
              "  <thead>\n",
              "    <tr style=\"text-align: right;\">\n",
              "      <th></th>\n",
              "      <th>Gender_Boy</th>\n",
              "      <th>Gender_Girl</th>\n",
              "      <th>Age_1-5</th>\n",
              "      <th>Age_11-15</th>\n",
              "      <th>Age_16-20</th>\n",
              "      <th>Age_21-25</th>\n",
              "      <th>Age_26-30</th>\n",
              "      <th>Age_6-10</th>\n",
              "      <th>Education Level_College</th>\n",
              "      <th>Education Level_School</th>\n",
              "      <th>...</th>\n",
              "      <th>Network Type_4G</th>\n",
              "      <th>Class Duration_0</th>\n",
              "      <th>Class Duration_1-3</th>\n",
              "      <th>Class Duration_3-6</th>\n",
              "      <th>Learning Management System_No</th>\n",
              "      <th>Learning Management System_Yes</th>\n",
              "      <th>Device_Computer</th>\n",
              "      <th>Device_Mobile</th>\n",
              "      <th>Device_Tab</th>\n",
              "      <th>Label</th>\n",
              "    </tr>\n",
              "  </thead>\n",
              "  <tbody>\n",
              "    <tr>\n",
              "      <th>0</th>\n",
              "      <td>1</td>\n",
              "      <td>0</td>\n",
              "      <td>0</td>\n",
              "      <td>0</td>\n",
              "      <td>0</td>\n",
              "      <td>1</td>\n",
              "      <td>0</td>\n",
              "      <td>0</td>\n",
              "      <td>0</td>\n",
              "      <td>0</td>\n",
              "      <td>...</td>\n",
              "      <td>1</td>\n",
              "      <td>0</td>\n",
              "      <td>0</td>\n",
              "      <td>1</td>\n",
              "      <td>1</td>\n",
              "      <td>0</td>\n",
              "      <td>0</td>\n",
              "      <td>0</td>\n",
              "      <td>1</td>\n",
              "      <td>1</td>\n",
              "    </tr>\n",
              "    <tr>\n",
              "      <th>1</th>\n",
              "      <td>0</td>\n",
              "      <td>1</td>\n",
              "      <td>0</td>\n",
              "      <td>0</td>\n",
              "      <td>0</td>\n",
              "      <td>1</td>\n",
              "      <td>0</td>\n",
              "      <td>0</td>\n",
              "      <td>0</td>\n",
              "      <td>0</td>\n",
              "      <td>...</td>\n",
              "      <td>1</td>\n",
              "      <td>0</td>\n",
              "      <td>1</td>\n",
              "      <td>0</td>\n",
              "      <td>0</td>\n",
              "      <td>1</td>\n",
              "      <td>0</td>\n",
              "      <td>1</td>\n",
              "      <td>0</td>\n",
              "      <td>1</td>\n",
              "    </tr>\n",
              "    <tr>\n",
              "      <th>2</th>\n",
              "      <td>0</td>\n",
              "      <td>1</td>\n",
              "      <td>0</td>\n",
              "      <td>0</td>\n",
              "      <td>1</td>\n",
              "      <td>0</td>\n",
              "      <td>0</td>\n",
              "      <td>0</td>\n",
              "      <td>1</td>\n",
              "      <td>0</td>\n",
              "      <td>...</td>\n",
              "      <td>1</td>\n",
              "      <td>0</td>\n",
              "      <td>1</td>\n",
              "      <td>0</td>\n",
              "      <td>1</td>\n",
              "      <td>0</td>\n",
              "      <td>0</td>\n",
              "      <td>1</td>\n",
              "      <td>0</td>\n",
              "      <td>1</td>\n",
              "    </tr>\n",
              "    <tr>\n",
              "      <th>3</th>\n",
              "      <td>0</td>\n",
              "      <td>1</td>\n",
              "      <td>0</td>\n",
              "      <td>1</td>\n",
              "      <td>0</td>\n",
              "      <td>0</td>\n",
              "      <td>0</td>\n",
              "      <td>0</td>\n",
              "      <td>0</td>\n",
              "      <td>1</td>\n",
              "      <td>...</td>\n",
              "      <td>1</td>\n",
              "      <td>0</td>\n",
              "      <td>1</td>\n",
              "      <td>0</td>\n",
              "      <td>1</td>\n",
              "      <td>0</td>\n",
              "      <td>0</td>\n",
              "      <td>1</td>\n",
              "      <td>0</td>\n",
              "      <td>1</td>\n",
              "    </tr>\n",
              "    <tr>\n",
              "      <th>4</th>\n",
              "      <td>0</td>\n",
              "      <td>1</td>\n",
              "      <td>0</td>\n",
              "      <td>0</td>\n",
              "      <td>1</td>\n",
              "      <td>0</td>\n",
              "      <td>0</td>\n",
              "      <td>0</td>\n",
              "      <td>0</td>\n",
              "      <td>1</td>\n",
              "      <td>...</td>\n",
              "      <td>0</td>\n",
              "      <td>1</td>\n",
              "      <td>0</td>\n",
              "      <td>0</td>\n",
              "      <td>1</td>\n",
              "      <td>0</td>\n",
              "      <td>0</td>\n",
              "      <td>1</td>\n",
              "      <td>0</td>\n",
              "      <td>0</td>\n",
              "    </tr>\n",
              "  </tbody>\n",
              "</table>\n",
              "<p>5 rows × 36 columns</p>\n",
              "</div>\n",
              "      <button class=\"colab-df-convert\" onclick=\"convertToInteractive('df-66114fad-9751-4820-9fe8-7c3a923b9831')\"\n",
              "              title=\"Convert this dataframe to an interactive table.\"\n",
              "              style=\"display:none;\">\n",
              "        \n",
              "  <svg xmlns=\"http://www.w3.org/2000/svg\" height=\"24px\"viewBox=\"0 0 24 24\"\n",
              "       width=\"24px\">\n",
              "    <path d=\"M0 0h24v24H0V0z\" fill=\"none\"/>\n",
              "    <path d=\"M18.56 5.44l.94 2.06.94-2.06 2.06-.94-2.06-.94-.94-2.06-.94 2.06-2.06.94zm-11 1L8.5 8.5l.94-2.06 2.06-.94-2.06-.94L8.5 2.5l-.94 2.06-2.06.94zm10 10l.94 2.06.94-2.06 2.06-.94-2.06-.94-.94-2.06-.94 2.06-2.06.94z\"/><path d=\"M17.41 7.96l-1.37-1.37c-.4-.4-.92-.59-1.43-.59-.52 0-1.04.2-1.43.59L10.3 9.45l-7.72 7.72c-.78.78-.78 2.05 0 2.83L4 21.41c.39.39.9.59 1.41.59.51 0 1.02-.2 1.41-.59l7.78-7.78 2.81-2.81c.8-.78.8-2.07 0-2.86zM5.41 20L4 18.59l7.72-7.72 1.47 1.35L5.41 20z\"/>\n",
              "  </svg>\n",
              "      </button>\n",
              "      \n",
              "  <style>\n",
              "    .colab-df-container {\n",
              "      display:flex;\n",
              "      flex-wrap:wrap;\n",
              "      gap: 12px;\n",
              "    }\n",
              "\n",
              "    .colab-df-convert {\n",
              "      background-color: #E8F0FE;\n",
              "      border: none;\n",
              "      border-radius: 50%;\n",
              "      cursor: pointer;\n",
              "      display: none;\n",
              "      fill: #1967D2;\n",
              "      height: 32px;\n",
              "      padding: 0 0 0 0;\n",
              "      width: 32px;\n",
              "    }\n",
              "\n",
              "    .colab-df-convert:hover {\n",
              "      background-color: #E2EBFA;\n",
              "      box-shadow: 0px 1px 2px rgba(60, 64, 67, 0.3), 0px 1px 3px 1px rgba(60, 64, 67, 0.15);\n",
              "      fill: #174EA6;\n",
              "    }\n",
              "\n",
              "    [theme=dark] .colab-df-convert {\n",
              "      background-color: #3B4455;\n",
              "      fill: #D2E3FC;\n",
              "    }\n",
              "\n",
              "    [theme=dark] .colab-df-convert:hover {\n",
              "      background-color: #434B5C;\n",
              "      box-shadow: 0px 1px 3px 1px rgba(0, 0, 0, 0.15);\n",
              "      filter: drop-shadow(0px 1px 2px rgba(0, 0, 0, 0.3));\n",
              "      fill: #FFFFFF;\n",
              "    }\n",
              "  </style>\n",
              "\n",
              "      <script>\n",
              "        const buttonEl =\n",
              "          document.querySelector('#df-66114fad-9751-4820-9fe8-7c3a923b9831 button.colab-df-convert');\n",
              "        buttonEl.style.display =\n",
              "          google.colab.kernel.accessAllowed ? 'block' : 'none';\n",
              "\n",
              "        async function convertToInteractive(key) {\n",
              "          const element = document.querySelector('#df-66114fad-9751-4820-9fe8-7c3a923b9831');\n",
              "          const dataTable =\n",
              "            await google.colab.kernel.invokeFunction('convertToInteractive',\n",
              "                                                     [key], {});\n",
              "          if (!dataTable) return;\n",
              "\n",
              "          const docLinkHtml = 'Like what you see? Visit the ' +\n",
              "            '<a target=\"_blank\" href=https://colab.research.google.com/notebooks/data_table.ipynb>data table notebook</a>'\n",
              "            + ' to learn more about interactive tables.';\n",
              "          element.innerHTML = '';\n",
              "          dataTable['output_type'] = 'display_data';\n",
              "          await google.colab.output.renderOutput(dataTable, element);\n",
              "          const docLink = document.createElement('div');\n",
              "          docLink.innerHTML = docLinkHtml;\n",
              "          element.appendChild(docLink);\n",
              "        }\n",
              "      </script>\n",
              "    </div>\n",
              "  </div>\n",
              "  "
            ]
          },
          "metadata": {},
          "execution_count": 15
        }
      ]
    },
    {
      "cell_type": "code",
      "source": [
        "#Identify majority,minority, and in-between classes\n",
        "df_minority = new_df[new_df[\"Label\"] == 2]\n",
        "df_majority = new_df[new_df[\"Label\"] == 1]\n",
        "df_middle = new_df[new_df[\"Label\"] == 0]\n",
        "\n",
        "#Upsample minority class by 50%\n",
        "df_minority_upsampled = resample(df_minority, replace = True, n_samples = int((df_minority.shape[0] * 1.5)), random_state = 42)\n",
        "#Downsample majority class to match upsampled minority class\n",
        "df_majority_downsampled = resample(df_majority, replace = True, n_samples = df_minority_upsampled.shape[0], random_state = 42)\n",
        "#Downsample middle class to match other two classes\n",
        "df_middle_downsampled = resample(df_middle, replace = True, n_samples = df_majority_downsampled.shape[0], random_state = 42)\n",
        "\n",
        "#New resampled DataFrame\n",
        "final_df = pd.concat([df_middle_downsampled, df_majority_downsampled, df_minority_upsampled])\n",
        "final_df[\"Label\"].value_counts()"
      ],
      "metadata": {
        "colab": {
          "base_uri": "https://localhost:8080/"
        },
        "id": "lIFVgjjBJFfY",
        "outputId": "85ac65ff-a790-498d-ef1a-fccb06e78781"
      },
      "execution_count": null,
      "outputs": [
        {
          "output_type": "execute_result",
          "data": {
            "text/plain": [
              "0    150\n",
              "1    150\n",
              "2    150\n",
              "Name: Label, dtype: int64"
            ]
          },
          "metadata": {},
          "execution_count": 16
        }
      ]
    },
    {
      "cell_type": "code",
      "source": [
        "final_df = final_df.reset_index(drop = True)"
      ],
      "metadata": {
        "id": "kqY7IZvDMX4P"
      },
      "execution_count": null,
      "outputs": []
    },
    {
      "cell_type": "code",
      "source": [
        "final_df.shape"
      ],
      "metadata": {
        "colab": {
          "base_uri": "https://localhost:8080/"
        },
        "id": "T-bae2p7O1c2",
        "outputId": "6da74df1-8014-4483-e053-f61dc73b5a9e"
      },
      "execution_count": null,
      "outputs": [
        {
          "output_type": "execute_result",
          "data": {
            "text/plain": [
              "(450, 36)"
            ]
          },
          "metadata": {},
          "execution_count": 18
        }
      ]
    },
    {
      "cell_type": "markdown",
      "source": [
        "##Model Building"
      ],
      "metadata": {
        "id": "fDhERjc2OpkS"
      }
    },
    {
      "cell_type": "code",
      "source": [
        "#Setting independent and dependent variables\n",
        "x = final_df.iloc[:, :35]\n",
        "y = final_df[\"Label\"]"
      ],
      "metadata": {
        "id": "SLNxcu1HOrEA"
      },
      "execution_count": null,
      "outputs": []
    },
    {
      "cell_type": "code",
      "source": [
        "#Train test split\n",
        "x_train, x_test, y_train, y_test = train_test_split(x, y, test_size = 0.20, random_state = 42)"
      ],
      "metadata": {
        "id": "2n0Pjmr4O8Xx"
      },
      "execution_count": null,
      "outputs": []
    },
    {
      "cell_type": "code",
      "source": [
        "#Random Forest Classifier\n",
        "from sklearn.ensemble import RandomForestClassifier\n",
        "rfc = RandomForestClassifier(n_estimators = 256)\n",
        "rfc.fit(x_train, y_train)\n",
        "\n",
        "#Prediction\n",
        "y_pred = rfc.predict(x_test)\n",
        "y_pred"
      ],
      "metadata": {
        "colab": {
          "base_uri": "https://localhost:8080/"
        },
        "id": "c2M6bBVbQC2Y",
        "outputId": "b4455f56-9e37-47be-9aab-caa4282de750"
      },
      "execution_count": null,
      "outputs": [
        {
          "output_type": "execute_result",
          "data": {
            "text/plain": [
              "array([2, 2, 0, 0, 1, 2, 2, 2, 0, 1, 1, 2, 0, 0, 2, 0, 1, 0, 0, 0, 0, 1,\n",
              "       2, 0, 0, 2, 2, 1, 1, 1, 1, 2, 2, 0, 0, 2, 2, 2, 0, 2, 2, 2, 0, 0,\n",
              "       2, 2, 1, 1, 2, 0, 0, 1, 2, 1, 2, 0, 2, 0, 0, 1, 0, 0, 0, 1, 0, 2,\n",
              "       2, 2, 1, 0, 2, 0, 1, 1, 2, 0, 1, 0, 2, 1, 0, 2, 0, 0, 1, 2, 2, 2,\n",
              "       0, 1])"
            ]
          },
          "metadata": {},
          "execution_count": 21
        }
      ]
    },
    {
      "cell_type": "code",
      "source": [
        "#True test labels\n",
        "print(list(y_test))"
      ],
      "metadata": {
        "colab": {
          "base_uri": "https://localhost:8080/"
        },
        "id": "6zPcBTfiGFXl",
        "outputId": "5a94b3fd-4682-4cb3-e65e-ebaa50eff1dc"
      },
      "execution_count": null,
      "outputs": [
        {
          "output_type": "stream",
          "name": "stdout",
          "text": [
            "[2, 2, 0, 0, 2, 1, 2, 2, 1, 1, 0, 2, 0, 0, 2, 0, 1, 0, 0, 0, 0, 0, 2, 0, 0, 2, 2, 1, 0, 1, 1, 2, 2, 0, 0, 2, 2, 2, 0, 2, 2, 1, 0, 1, 2, 2, 1, 1, 2, 0, 0, 1, 2, 0, 2, 0, 2, 0, 0, 1, 0, 0, 1, 1, 0, 2, 2, 2, 1, 0, 2, 0, 1, 1, 2, 0, 1, 0, 2, 1, 0, 1, 0, 0, 1, 2, 2, 2, 0, 1]\n"
          ]
        }
      ]
    },
    {
      "cell_type": "code",
      "source": [
        "#Value counts for prediction\n",
        "count_0, count_1, count_2 = 0, 0, 0\n",
        "for value in y_pred:\n",
        "  if value == 0:\n",
        "    count_0 += 1\n",
        "  elif value == 1:\n",
        "    count_1 += 1\n",
        "  else:\n",
        "    count_2 += 1\n",
        "\n",
        "print(count_0, count_2, count_1)"
      ],
      "metadata": {
        "colab": {
          "base_uri": "https://localhost:8080/"
        },
        "id": "TxGC4Cm7Gk8_",
        "outputId": "4e1e8250-a679-4b99-f4e0-738176abb4e7"
      },
      "execution_count": null,
      "outputs": [
        {
          "output_type": "stream",
          "name": "stdout",
          "text": [
            "34 34 22\n"
          ]
        }
      ]
    },
    {
      "cell_type": "code",
      "source": [
        "#Value counts for true test data\n",
        "y_test.value_counts()"
      ],
      "metadata": {
        "colab": {
          "base_uri": "https://localhost:8080/"
        },
        "id": "KoKfXY8CGnbC",
        "outputId": "70f52be5-34f2-40af-8aae-b73e332baf5c"
      },
      "execution_count": null,
      "outputs": [
        {
          "output_type": "execute_result",
          "data": {
            "text/plain": [
              "0    35\n",
              "2    32\n",
              "1    23\n",
              "Name: Label, dtype: int64"
            ]
          },
          "metadata": {},
          "execution_count": 24
        }
      ]
    },
    {
      "cell_type": "code",
      "source": [
        "#Confusion Matrix\n",
        "cfm = confusion_matrix(y_test, y_pred)\n",
        "cfm\n",
        "#Predicted along horizontal (0 1 2), True along vertical (0 1 2 )"
      ],
      "metadata": {
        "colab": {
          "base_uri": "https://localhost:8080/"
        },
        "id": "Rnng293PQNDA",
        "outputId": "1b866ed3-3e46-4dc5-89aa-9eb0db63cb6f"
      },
      "execution_count": null,
      "outputs": [
        {
          "output_type": "execute_result",
          "data": {
            "text/plain": [
              "array([[31,  4,  0],\n",
              "       [ 3, 17,  3],\n",
              "       [ 0,  1, 31]])"
            ]
          },
          "metadata": {},
          "execution_count": 25
        }
      ]
    },
    {
      "cell_type": "code",
      "source": [
        "#Accuracy\n",
        "acc = accuracy_score(y_test, y_pred)\n",
        "acc\n",
        "#Accuracy ranges about 84% - 88%"
      ],
      "metadata": {
        "colab": {
          "base_uri": "https://localhost:8080/"
        },
        "id": "EXfXLbIkQQMp",
        "outputId": "44c73224-ccaa-49da-e873-a4e492d72bd9"
      },
      "execution_count": null,
      "outputs": [
        {
          "output_type": "execute_result",
          "data": {
            "text/plain": [
              "0.8777777777777778"
            ]
          },
          "metadata": {},
          "execution_count": 26
        }
      ]
    },
    {
      "cell_type": "code",
      "source": [
        "#Evaluation report\n",
        "report = classification_report(y_test, y_pred)\n",
        "print(report)\n",
        "#The precision, recall, and f1-score for each class "
      ],
      "metadata": {
        "colab": {
          "base_uri": "https://localhost:8080/"
        },
        "id": "wiBS3IYbQZ5u",
        "outputId": "1eb015ff-5b1e-4029-9a1b-20050e6dd5f2"
      },
      "execution_count": null,
      "outputs": [
        {
          "output_type": "stream",
          "name": "stdout",
          "text": [
            "              precision    recall  f1-score   support\n",
            "\n",
            "           0       0.91      0.89      0.90        35\n",
            "           1       0.77      0.74      0.76        23\n",
            "           2       0.91      0.97      0.94        32\n",
            "\n",
            "    accuracy                           0.88        90\n",
            "   macro avg       0.87      0.86      0.86        90\n",
            "weighted avg       0.88      0.88      0.88        90\n",
            "\n"
          ]
        }
      ]
    },
    {
      "cell_type": "code",
      "source": [
        "#Inferences\n",
        "\n",
        "'''\n",
        "The accuracy of the model is decent. It ranges from the mid-high 80 percents. There is some blur between 0s and 1s\n",
        "and between 1s and 2s, but 0s and 2s are never falsely confused with each other. This is good, as it means that cases\n",
        "of extreme failure will not occur (a person with low adaptivity won't be confused with someone of high adaptivity\n",
        "and vice versa). The performance measures also show quite decent results. The Random Forest Classifier (an Ensemble\n",
        "Model) ended up working better than the other options, as it does well with multiclass classification. In terms of future \n",
        "changes, a different resampling method could be used, as the current method sees a lot of loss of information. In addition, \n",
        "more EDA could be conducted to compare the relationships between independent features in a heatmap or a pairplot. Finally, \n",
        "I would also look for better performance metrics when dealing with multiclass classification. This project can be used by \n",
        "institutions and online education companies to identify markets and adaptivity levels, as online education is an emerging\n",
        "concept that has been quite prevalent due to the COVID-19 Pandemic.\n",
        "'''"
      ],
      "metadata": {
        "colab": {
          "base_uri": "https://localhost:8080/",
          "height": 71
        },
        "id": "2IYN4LAzBagp",
        "outputId": "017785d7-84c3-44b3-8aa5-ef1f92a852f6"
      },
      "execution_count": null,
      "outputs": [
        {
          "output_type": "execute_result",
          "data": {
            "text/plain": [
              "'\\nThe accuracy of the model is decent. It ranges from the mid-high 80 percents. There is some blur between 0s and 1s\\nand between 1s and 2s, but 0s and 2s are never falsely confused with each other. This is good, as it means that cases\\nof extreme failure will not occur. \\n'"
            ],
            "application/vnd.google.colaboratory.intrinsic+json": {
              "type": "string"
            }
          },
          "metadata": {},
          "execution_count": 29
        }
      ]
    }
  ]
}